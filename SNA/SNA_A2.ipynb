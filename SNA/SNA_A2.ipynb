{
  "nbformat": 4,
  "nbformat_minor": 0,
  "metadata": {
    "colab": {
      "provenance": [],
      "authorship_tag": "ABX9TyPRLW619JLIBZsDnnxSlcqi",
      "include_colab_link": true
    },
    "kernelspec": {
      "display_name": "Python 3",
      "name": "python3"
    },
    "language_info": {
      "name": "python"
    }
  },
  "cells": [
    {
      "cell_type": "markdown",
      "metadata": {
        "id": "view-in-github",
        "colab_type": "text"
      },
      "source": [
        "<a href=\"https://colab.research.google.com/github/christine99x/MasterCourseProject/blob/main/SNA/SNA_A2.ipynb\" target=\"_parent\"><img src=\"https://colab.research.google.com/assets/colab-badge.svg\" alt=\"Open In Colab\"/></a>"
      ]
    },
    {
      "cell_type": "code",
      "metadata": {
        "id": "MIA4vnV4dtQJ"
      },
      "source": [
        "import numpy as np\n",
        "import csv\n",
        "import re\n",
        "import pandas as pd\n",
        "import networkx as nx\n",
        "import matplotlib.pyplot as plt\n",
        "import seaborn as sns\n",
        "from networkx.algorithms import community\n",
        "from collections import Counter"
      ],
      "execution_count": null,
      "outputs": []
    },
    {
      "cell_type": "markdown",
      "metadata": {
        "id": "mjjJvKq7do6n"
      },
      "source": [
        "3.1"
      ]
    },
    {
      "cell_type": "code",
      "metadata": {
        "colab": {
          "base_uri": "https://localhost:8080/"
        },
        "id": "1P1iwFJKdsZY",
        "outputId": "f06a514f-853c-468d-968a-ea7d45d16b56"
      },
      "source": [
        "adjacendy_list = {}\n",
        "edge_list = []\n",
        "with open('twitter-small.tsv', encoding='utf-8') as f:\n",
        "  tsvreader = csv.reader(f, delimiter='\\t')\n",
        "  for line in tsvreader:\n",
        "    line[1] = line[1].lower()    #transfer to lower case\n",
        "    adj = list(set(re.findall(r'@(\\w+)', line[2].lower(), re.IGNORECASE)))    #get the mentioned user list\n",
        "    if adj:    #if the mentioned list is not empty\n",
        "      if line[1] not in adjacendy_list:     #for the first twitter of a user\n",
        "        adjacendy_list[line[1]] = [adj,[1 for x in range(len(adj))], [line[0] for x in range(len(adj))]]\n",
        "        # if line[1]=='stock_tweetz':\n",
        "        #   print(\"timestamp: \",line[0])\n",
        "        #   print(\"posting user: \",line[1])\n",
        "        #   print(\"twitter: \",line[2])\n",
        "      else:\n",
        "        for i in adj:    #for an old link\n",
        "          if i in adjacendy_list[line[1]][0]:\n",
        "            ind = adjacendy_list[line[1]][0].index(i)\n",
        "            adjacendy_list[line[1]][1][ind] += 1\n",
        "          else:    #for a new link\n",
        "            adjacendy_list[line[1]][0].append(i)\n",
        "            adjacendy_list[line[1]][1].append(1)\n",
        "            adjacendy_list[line[1]][2].append(line[0])\n",
        "for i in adjacendy_list:    #transfer to edge list\n",
        "    for j in range(len(adjacendy_list[i][0])):\n",
        "        edge_list.append([i, adjacendy_list[i][0][j], adjacendy_list[i][1][j], adjacendy_list[i][2][j]])\n",
        "edge_list = pd.DataFrame(edge_list)\n",
        "edge_list = edge_list[edge_list[0]!=edge_list[1]]    #delete the data with the same sorce and target\n",
        "print(edge_list)\n",
        "# edge_list.to_csv('edges-larger.csv', index=False, header=False)\n",
        "adjacendy_list = 0    #release memory"
      ],
      "execution_count": null,
      "outputs": [
        {
          "output_type": "stream",
          "name": "stdout",
          "text": [
            "                    0               1  2                    3\n",
            "0          cameron987   beatrizchavez  1  2009-06-11 16:56:59\n",
            "1          cameron987  jeremyscheller  1  2009-06-11 20:32:15\n",
            "2           kshepherd       arnoldkim  1  2009-06-11 16:58:32\n",
            "3           kshepherd       blakespot  1  2009-06-11 16:58:32\n",
            "4           kshepherd         bdudney  1  2009-06-11 23:16:20\n",
            "...               ...             ... ..                  ...\n",
            "68676       sales_man         mobiz24  1  2009-06-24 21:18:22\n",
            "68677        t_mesiab         kmesiab  1  2009-06-24 21:18:23\n",
            "68678  abelourjameson      stephenfry  1  2009-06-24 21:18:30\n",
            "68679           iramo      parislemon  1  2009-06-24 21:18:49\n",
            "68680           iramo      techcrunch  1  2009-06-24 21:18:49\n",
            "\n",
            "[67481 rows x 4 columns]\n"
          ]
        }
      ]
    },
    {
      "cell_type": "markdown",
      "metadata": {
        "id": "iYpwvzW3dn2f"
      },
      "source": [
        "3.2"
      ]
    },
    {
      "cell_type": "code",
      "metadata": {
        "colab": {
          "base_uri": "https://localhost:8080/"
        },
        "id": "bz65-PqndstB",
        "outputId": "bc48a1a1-f746-4b7c-b406-c54e1ab872b2"
      },
      "source": [
        "G = nx.DiGraph()\n",
        "for i in range(edge_list.shape[0]):\n",
        "  G.add_edge(edge_list.iat[i,0], edge_list.iat[i,1])\n",
        "m = G.number_of_edges()\n",
        "n = G.number_of_nodes()\n",
        "print(\"m =\", m)\n",
        "print(\"n =\", n)"
      ],
      "execution_count": null,
      "outputs": [
        {
          "output_type": "stream",
          "name": "stdout",
          "text": [
            "m = 67481\n",
            "n = 62820\n"
          ]
        }
      ]
    },
    {
      "cell_type": "code",
      "metadata": {
        "colab": {
          "base_uri": "https://localhost:8080/"
        },
        "id": "9DKsMrtjd0mY",
        "outputId": "2fb71f94-f325-4b9a-fdb0-c61bffc12aee"
      },
      "source": [
        "print(\"Strongly connected components: \", nx.number_strongly_connected_components(G))\n",
        "print(\"Weakly connected components:\", nx.number_weakly_connected_components(G))"
      ],
      "execution_count": null,
      "outputs": [
        {
          "output_type": "stream",
          "name": "stdout",
          "text": [
            "Strongly connected components:  61952\n",
            "Weakly connected components: 9914\n"
          ]
        }
      ]
    },
    {
      "cell_type": "code",
      "metadata": {
        "colab": {
          "base_uri": "https://localhost:8080/"
        },
        "id": "67FkQHhBd3XM",
        "outputId": "06696a9b-ebda-4ecf-fc2b-fd3a8df40c87"
      },
      "source": [
        "print(\"Density: \", m/(n*(n-1)))"
      ],
      "execution_count": null,
      "outputs": [
        {
          "output_type": "stream",
          "name": "stdout",
          "text": [
            "Density:  2.821966464012992e-06\n"
          ]
        }
      ]
    },
    {
      "cell_type": "code",
      "metadata": {
        "colab": {
          "base_uri": "https://localhost:8080/",
          "height": 279
        },
        "id": "EAu-kvNad5c1",
        "outputId": "f7a9ea6d-af7a-4b9a-f850-a7afa58ada43"
      },
      "source": [
        "indeg = []\n",
        "outdeg = []\n",
        "for i in G.in_degree:\n",
        "  indeg.append(i[1])\n",
        "for j in G.out_degree:\n",
        "  outdeg.append(j[1])\n",
        "indeg = Counter(indeg)\n",
        "indeg = sorted(indeg.items())\n",
        "outdeg = Counter(outdeg)\n",
        "outdeg = sorted(outdeg.items())\n",
        "x,y = zip(*indeg)\n",
        "plt.plot(x,y, label='indeg', color='lightskyblue')\n",
        "x,y = zip(*outdeg)\n",
        "plt.plot(x,y, label='outdeg', color='orange')\n",
        "# print(indeg)\n",
        "plt.legend()\n",
        "plt.xlabel(\"Degree\")\n",
        "plt.show()"
      ],
      "execution_count": null,
      "outputs": [
        {
          "output_type": "display_data",
          "data": {
            "image/png": "[encoded data removed]",
            "text/plain": [
              "<Figure size 432x288 with 1 Axes>"
            ]
          },
          "metadata": {
            "needs_background": "light"
          }
        }
      ]
    },
    {
      "cell_type": "code",
      "metadata": {
        "id": "P3VfXuw8iEa0"
      },
      "source": [
        "weak = max(list(nx.weakly_connected_components(G)), key=len)\n",
        "weak = G.subgraph(weak).to_undirected()"
      ],
      "execution_count": null,
      "outputs": []
    },
    {
      "cell_type": "code",
      "metadata": {
        "colab": {
          "base_uri": "https://localhost:8080/",
          "height": 402
        },
        "id": "4EOSYHuv5S2P",
        "outputId": "3aa8987f-60cc-4eae-dcd8-d5af784f6fc6"
      },
      "source": [
        "path = nx.all_pairs_shortest_path_length(weak)\n",
        "counts = {}\n",
        "for i in path:\n",
        "  for j in i[1].values():\n",
        "    if j in counts:\n",
        "      counts[j] += 1\n",
        "    else:\n",
        "      counts[j] = 1\n",
        "plt.xlabel(\"Distance\")\n",
        "plt.ylabel(\"Count\")\n",
        "plt.title(\"Distance Distribution\")\n",
        "plt.bar(counts.keys(),counts.values(), color='powderblue')\n",
        "plt.savefig('dd.png')"
      ],
      "execution_count": null,
      "outputs": [
        {
          "output_type": "error",
          "ename": "KeyboardInterrupt",
          "evalue": "ignored",
          "traceback": [
            "\u001b[0;31m---------------------------------------------------------------------------\u001b[0m",
            "\u001b[0;31mKeyboardInterrupt\u001b[0m                         Traceback (most recent call last)",
            "\u001b[0;32m<ipython-input-9-5a0fc02800ab>\u001b[0m in \u001b[0;36m<module>\u001b[0;34m()\u001b[0m\n\u001b[1;32m      3\u001b[0m \u001b[0mpath\u001b[0m \u001b[0;34m=\u001b[0m \u001b[0mnx\u001b[0m\u001b[0;34m.\u001b[0m\u001b[0mall_pairs_shortest_path_length\u001b[0m\u001b[0;34m(\u001b[0m\u001b[0mweak\u001b[0m\u001b[0;34m)\u001b[0m\u001b[0;34m\u001b[0m\u001b[0;34m\u001b[0m\u001b[0m\n\u001b[1;32m      4\u001b[0m \u001b[0mcounts\u001b[0m \u001b[0;34m=\u001b[0m \u001b[0;34m{\u001b[0m\u001b[0;34m}\u001b[0m\u001b[0;34m\u001b[0m\u001b[0;34m\u001b[0m\u001b[0m\n\u001b[0;32m----> 5\u001b[0;31m \u001b[0;32mfor\u001b[0m \u001b[0mi\u001b[0m \u001b[0;32min\u001b[0m \u001b[0mpath\u001b[0m\u001b[0;34m:\u001b[0m\u001b[0;34m\u001b[0m\u001b[0;34m\u001b[0m\u001b[0m\n\u001b[0m\u001b[1;32m      6\u001b[0m   \u001b[0;32mfor\u001b[0m \u001b[0mj\u001b[0m \u001b[0;32min\u001b[0m \u001b[0mi\u001b[0m\u001b[0;34m[\u001b[0m\u001b[0;36m1\u001b[0m\u001b[0;34m]\u001b[0m\u001b[0;34m.\u001b[0m\u001b[0mvalues\u001b[0m\u001b[0;34m(\u001b[0m\u001b[0;34m)\u001b[0m\u001b[0;34m:\u001b[0m\u001b[0;34m\u001b[0m\u001b[0;34m\u001b[0m\u001b[0m\n\u001b[1;32m      7\u001b[0m     \u001b[0;32mif\u001b[0m \u001b[0mj\u001b[0m \u001b[0;32min\u001b[0m \u001b[0mcounts\u001b[0m\u001b[0;34m:\u001b[0m\u001b[0;34m\u001b[0m\u001b[0;34m\u001b[0m\u001b[0m\n",
            "\u001b[0;32m/usr/local/lib/python3.7/dist-packages/networkx/algorithms/shortest_paths/unweighted.py\u001b[0m in \u001b[0;36mall_pairs_shortest_path_length\u001b[0;34m(G, cutoff)\u001b[0m\n\u001b[1;32m    182\u001b[0m     \u001b[0;31m# TODO This can be trivially parallelized.\u001b[0m\u001b[0;34m\u001b[0m\u001b[0;34m\u001b[0m\u001b[0;34m\u001b[0m\u001b[0m\n\u001b[1;32m    183\u001b[0m     \u001b[0;32mfor\u001b[0m \u001b[0mn\u001b[0m \u001b[0;32min\u001b[0m \u001b[0mG\u001b[0m\u001b[0;34m:\u001b[0m\u001b[0;34m\u001b[0m\u001b[0;34m\u001b[0m\u001b[0m\n\u001b[0;32m--> 184\u001b[0;31m         \u001b[0;32myield\u001b[0m \u001b[0;34m(\u001b[0m\u001b[0mn\u001b[0m\u001b[0;34m,\u001b[0m \u001b[0mlength\u001b[0m\u001b[0;34m(\u001b[0m\u001b[0mG\u001b[0m\u001b[0;34m,\u001b[0m \u001b[0mn\u001b[0m\u001b[0;34m,\u001b[0m \u001b[0mcutoff\u001b[0m\u001b[0;34m=\u001b[0m\u001b[0mcutoff\u001b[0m\u001b[0;34m)\u001b[0m\u001b[0;34m)\u001b[0m\u001b[0;34m\u001b[0m\u001b[0;34m\u001b[0m\u001b[0m\n\u001b[0m\u001b[1;32m    185\u001b[0m \u001b[0;34m\u001b[0m\u001b[0m\n\u001b[1;32m    186\u001b[0m \u001b[0;34m\u001b[0m\u001b[0m\n",
            "\u001b[0;32m/usr/local/lib/python3.7/dist-packages/networkx/algorithms/shortest_paths/unweighted.py\u001b[0m in \u001b[0;36msingle_source_shortest_path_length\u001b[0;34m(G, source, cutoff)\u001b[0m\n\u001b[1;32m     57\u001b[0m         \u001b[0mcutoff\u001b[0m \u001b[0;34m=\u001b[0m \u001b[0mfloat\u001b[0m\u001b[0;34m(\u001b[0m\u001b[0;34m\"inf\"\u001b[0m\u001b[0;34m)\u001b[0m\u001b[0;34m\u001b[0m\u001b[0;34m\u001b[0m\u001b[0m\n\u001b[1;32m     58\u001b[0m     \u001b[0mnextlevel\u001b[0m \u001b[0;34m=\u001b[0m \u001b[0;34m{\u001b[0m\u001b[0msource\u001b[0m\u001b[0;34m:\u001b[0m \u001b[0;36m1\u001b[0m\u001b[0;34m}\u001b[0m\u001b[0;34m\u001b[0m\u001b[0;34m\u001b[0m\u001b[0m\n\u001b[0;32m---> 59\u001b[0;31m     \u001b[0;32mreturn\u001b[0m \u001b[0mdict\u001b[0m\u001b[0;34m(\u001b[0m\u001b[0m_single_shortest_path_length\u001b[0m\u001b[0;34m(\u001b[0m\u001b[0mG\u001b[0m\u001b[0;34m.\u001b[0m\u001b[0madj\u001b[0m\u001b[0;34m,\u001b[0m \u001b[0mnextlevel\u001b[0m\u001b[0;34m,\u001b[0m \u001b[0mcutoff\u001b[0m\u001b[0;34m)\u001b[0m\u001b[0;34m)\u001b[0m\u001b[0;34m\u001b[0m\u001b[0;34m\u001b[0m\u001b[0m\n\u001b[0m\u001b[1;32m     60\u001b[0m \u001b[0;34m\u001b[0m\u001b[0m\n\u001b[1;32m     61\u001b[0m \u001b[0;34m\u001b[0m\u001b[0m\n",
            "\u001b[0;32m/usr/local/lib/python3.7/dist-packages/networkx/algorithms/shortest_paths/unweighted.py\u001b[0m in \u001b[0;36m_single_shortest_path_length\u001b[0;34m(adj, firstlevel, cutoff)\u001b[0m\n\u001b[1;32m     85\u001b[0m                 \u001b[0mseen\u001b[0m\u001b[0;34m[\u001b[0m\u001b[0mv\u001b[0m\u001b[0;34m]\u001b[0m \u001b[0;34m=\u001b[0m \u001b[0mlevel\u001b[0m  \u001b[0;31m# set the level of vertex v\u001b[0m\u001b[0;34m\u001b[0m\u001b[0;34m\u001b[0m\u001b[0m\n\u001b[1;32m     86\u001b[0m                 \u001b[0mfound\u001b[0m\u001b[0;34m.\u001b[0m\u001b[0mappend\u001b[0m\u001b[0;34m(\u001b[0m\u001b[0mv\u001b[0m\u001b[0;34m)\u001b[0m\u001b[0;34m\u001b[0m\u001b[0;34m\u001b[0m\u001b[0m\n\u001b[0;32m---> 87\u001b[0;31m                 \u001b[0;32myield\u001b[0m \u001b[0;34m(\u001b[0m\u001b[0mv\u001b[0m\u001b[0;34m,\u001b[0m \u001b[0mlevel\u001b[0m\u001b[0;34m)\u001b[0m\u001b[0;34m\u001b[0m\u001b[0;34m\u001b[0m\u001b[0m\n\u001b[0m\u001b[1;32m     88\u001b[0m         \u001b[0;32mif\u001b[0m \u001b[0mlen\u001b[0m\u001b[0;34m(\u001b[0m\u001b[0mseen\u001b[0m\u001b[0;34m)\u001b[0m \u001b[0;34m==\u001b[0m \u001b[0mn\u001b[0m\u001b[0;34m:\u001b[0m\u001b[0;34m\u001b[0m\u001b[0;34m\u001b[0m\u001b[0m\n\u001b[1;32m     89\u001b[0m             \u001b[0;32mreturn\u001b[0m\u001b[0;34m\u001b[0m\u001b[0;34m\u001b[0m\u001b[0m\n",
            "\u001b[0;31mKeyboardInterrupt\u001b[0m: "
          ]
        }
      ]
    },
    {
      "cell_type": "code",
      "metadata": {
        "id": "zFOaGA5veBVn",
        "colab": {
          "base_uri": "https://localhost:8080/"
        },
        "outputId": "519086d8-a8a4-4721-8d21-fa036b012e36"
      },
      "source": [
        "print(\"Average clustering coefficient:\", nx.average_clustering(G))"
      ],
      "execution_count": null,
      "outputs": [
        {
          "output_type": "stream",
          "name": "stdout",
          "text": [
            "Average clustering coefficient: 0.028554329911848305\n"
          ]
        }
      ]
    },
    {
      "cell_type": "markdown",
      "metadata": {
        "id": "1KKdvVhmDCgC"
      },
      "source": [
        "3.3"
      ]
    },
    {
      "cell_type": "code",
      "metadata": {
        "id": "Ot68nsUlDFnU",
        "colab": {
          "base_uri": "https://localhost:8080/"
        },
        "outputId": "f6d88763-2007-4b51-f2e9-9b962c95ef3c"
      },
      "source": [
        "d = sorted(nx.in_degree_centrality(G).items(), key=lambda x:x[1], reverse=True)[:20]\n",
        "d = set(map(lambda x: x[0], d))\n",
        "e = sorted(nx.eigenvector_centrality(G).items(), key=lambda x:x[1], reverse=True)[:20]\n",
        "e = set(map(lambda x: x[0], e))\n",
        "c = sorted(nx.closeness_centrality(G).items(), key=lambda x:x[1], reverse=True)[:20]\n",
        "c = set(map(lambda x: x[0], c))\n",
        "print(\"similarity of d&c\", len(d&c)/20)\n",
        "print(\"similarity of e&c\", len(e&c)/20)\n",
        "print(\"similarity of d&e\", len(d&e)/20)"
      ],
      "execution_count": null,
      "outputs": [
        {
          "output_type": "stream",
          "name": "stdout",
          "text": [
            "similarity of d&c 0.4\n",
            "similarity of e&c 0.15\n",
            "similarity of d&e 0.2\n"
          ]
        }
      ]
    },
    {
      "cell_type": "code",
      "metadata": {
        "id": "NXxx2qpUo-Ne",
        "colab": {
          "base_uri": "https://localhost:8080/"
        },
        "outputId": "b69f3f9d-0dd7-4ca6-cd61-b43eb283417c"
      },
      "source": [
        "for x in e:\n",
        "  print(x)\n",
        "# print(d)\n",
        "# print(b)\n",
        "# print(c)"
      ],
      "execution_count": null,
      "outputs": [
        {
          "output_type": "stream",
          "name": "stdout",
          "text": [
            "rogershelps\n",
            "parislemon\n",
            "kulpreetsingh\n",
            "rogerskeith\n",
            "copumpkin\n",
            "dixontam\n",
            "igncom\n",
            "iphone_dev\n",
            "iphoneincanada\n",
            "anilparmar\n",
            "gillianshaw\n",
            "insaneabz\n",
            "hardcoreware\n",
            "johnchow\n",
            "musclenerd\n",
            "joshuadenney\n",
            "evansrobert\n",
            "iclarified\n",
            "techcrunch\n",
            "reneritchie\n"
          ]
        }
      ]
    },
    {
      "cell_type": "markdown",
      "metadata": {
        "id": "6ym0NBe854xw"
      },
      "source": [
        "3.4"
      ]
    },
    {
      "cell_type": "code",
      "metadata": {
        "id": "KTpXaDdL551p"
      },
      "source": [
        "index = []\n",
        "for i in range(edge_list.shape[0]):\n",
        "  if weak.has_edge(edge_list.iat[i,0], edge_list.iat[i,1]):\n",
        "    index.append(list(edge_list.loc[edge_list.index[i],:].values))\n",
        "c = pd.DataFrame(index)\n",
        "c.columns = ['source','target','weight','timestamp']\n",
        "c.to_csv('giant_component.csv', index=False)"
      ],
      "execution_count": null,
      "outputs": []
    }
  ]
}