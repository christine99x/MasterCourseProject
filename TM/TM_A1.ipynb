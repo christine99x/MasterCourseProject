{
  "nbformat": 4,
  "nbformat_minor": 0,
  "metadata": {
    "colab": {
      "provenance": [],
      "include_colab_link": true
    },
    "kernelspec": {
      "name": "python3",
      "display_name": "Python 3"
    },
    "language_info": {
      "name": "python"
    }
  },
  "cells": [
    {
      "cell_type": "markdown",
      "metadata": {
        "id": "view-in-github",
        "colab_type": "text"
      },
      "source": [
        "<a href=\"https://colab.research.google.com/github/christine99x/MasterCourseProject/blob/main/TM/TM_A1.ipynb\" target=\"_parent\"><img src=\"https://colab.research.google.com/assets/colab-badge.svg\" alt=\"Open In Colab\"/></a>"
      ]
    },
    {
      "cell_type": "markdown",
      "metadata": {
        "id": "KZjF1h6T-QEa"
      },
      "source": [
        "#20 newsgroups dataset"
      ]
    },
    {
      "cell_type": "code",
      "metadata": {
        "id": "LyLbea6RY0FH",
        "colab": {
          "base_uri": "https://localhost:8080/"
        },
        "outputId": "dad86b16-a322-4e4c-d4c5-ad36c30338dc"
      },
      "source": [
        "# load data\n",
        "# all 20 newsgroups\n",
        "categories = ['comp.graphics', 'comp.os.ms-windows.misc', 'comp.sys.ibm.pc.hardware', 'comp.sys.mac.hardware', 'comp.windows.x',\n",
        "        'misc.forsale', 'rec.autos', 'rec.motorcycles', 'rec.sport.baseball', 'rec.sport.hockey',\n",
        "        'talk.politics.misc', 'talk.politics.guns', 'talk.politics.mideast', 'sci.crypt', 'sci.electronics',\n",
        "        'sci.med', 'sci.space', 'talk.religion.misc', 'alt.atheism', 'soc.religion.christian']\n",
        "\n",
        "from sklearn.datasets import fetch_20newsgroups\n",
        "twenty_train = fetch_20newsgroups(subset='train', categories=categories, shuffle=True, random_state=42)"
      ],
      "execution_count": null,
      "outputs": [
        {
          "output_type": "stream",
          "name": "stderr",
          "text": [
            "Downloading 20news dataset. This may take a few minutes.\n",
            "Downloading dataset from https://ndownloader.figshare.com/files/5975967 (14 MB)\n"
          ]
        }
      ]
    },
    {
      "cell_type": "markdown",
      "metadata": {
        "id": "PinsB9xES2zy"
      },
      "source": [
        "# three type of featur & three classifiers"
      ]
    },
    {
      "cell_type": "code",
      "metadata": {
        "id": "IFg7MlTWawtg"
      },
      "source": [
        "from sklearn.feature_extraction.text import CountVectorizer\n",
        "from sklearn.feature_extraction.text import TfidfTransformer\n",
        "from sklearn.naive_bayes import MultinomialNB\n",
        "from sklearn.linear_model import SGDClassifier\n",
        "from sklearn.linear_model import LogisticRegression\n",
        "from sklearn.pipeline import Pipeline\n",
        "import numpy as np\n",
        "from sklearn import metrics\n",
        "from sklearn.metrics import f1_score\n",
        "from sklearn.metrics import precision_score\n",
        "from sklearn.metrics import recall_score"
      ],
      "execution_count": null,
      "outputs": []
    },
    {
      "cell_type": "code",
      "metadata": {
        "id": "J6YqEZhNdDSX"
      },
      "source": [
        "twenty_test = fetch_20newsgroups(subset='test',\n",
        "    categories=categories, shuffle=True, random_state=42)\n",
        "docs_test = twenty_test.data"
      ],
      "execution_count": null,
      "outputs": []
    },
    {
      "cell_type": "markdown",
      "metadata": {
        "id": "vM1PzIrL_T0g"
      },
      "source": [
        "Naïve Bayes"
      ]
    },
    {
      "cell_type": "code",
      "metadata": {
        "colab": {
          "base_uri": "https://localhost:8080/"
        },
        "id": "AStl-96-ayzM",
        "outputId": "72fcd863-e9d5-4cab-94b0-fdbc69a76d3f"
      },
      "source": [
        "# naive_bayes x count\n",
        "text_clf = Pipeline([\n",
        "    ('vect', CountVectorizer()),\n",
        "    ('clf', MultinomialNB()),\n",
        "])\n",
        "text_clf.fit(twenty_train.data, twenty_train.target)\n",
        "\n",
        "predicted = text_clf.predict(docs_test)\n",
        "# print('accuracy: ','%.2f'% np.mean(predicted == twenty_test.target))\n",
        "# print(metrics.classification_report(twenty_test.target, predicted, target_names=twenty_test.target_names))\n",
        "\n",
        "print('---NB x count---')\n",
        "print('precision: ','%.3f'% precision_score(twenty_test.target, predicted, average='macro'))\n",
        "print('recall: ','%.3f'% recall_score(twenty_test.target, predicted, average='macro'))\n",
        "print('f1_score: ','%.3f'% f1_score(twenty_test.target, predicted, average='macro'))"
      ],
      "execution_count": null,
      "outputs": [
        {
          "output_type": "stream",
          "name": "stdout",
          "text": [
            "---NB x count---\n",
            "precision:  0.762\n",
            "recall:  0.764\n",
            "f1_score:  0.745\n"
          ]
        }
      ]
    },
    {
      "cell_type": "code",
      "metadata": {
        "colab": {
          "base_uri": "https://localhost:8080/"
        },
        "id": "3xyqLYIBagLf",
        "outputId": "6d9b5345-6df9-4a59-cea0-9e11b07510ef"
      },
      "source": [
        "# naive_bayes x tf\n",
        "text_clf = Pipeline([\n",
        "    ('vect', CountVectorizer()),\n",
        "    ('tf', TfidfTransformer(use_idf=False)),\n",
        "    ('clf', MultinomialNB()),\n",
        "])\n",
        "text_clf.fit(twenty_train.data, twenty_train.target)\n",
        "\n",
        "predicted = text_clf.predict(docs_test)\n",
        "# print('accuracy',np.mean(predicted == twenty_test.target))\n",
        "# print(metrics.classification_report(twenty_test.target, predicted, target_names=twenty_test.target_names))\n",
        "\n",
        "print('---NB x tf---')\n",
        "print('precision: ','%.3f'% precision_score(twenty_test.target, predicted, average='macro'))\n",
        "print('recall: ','%.3f'% recall_score(twenty_test.target, predicted, average='macro'))\n",
        "print('f1_score: ','%.3f'% f1_score(twenty_test.target, predicted, average='macro'))"
      ],
      "execution_count": null,
      "outputs": [
        {
          "output_type": "stream",
          "name": "stdout",
          "text": [
            "---NB x tf---\n",
            "precision:  0.792\n",
            "recall:  0.682\n",
            "f1_score:  0.673\n"
          ]
        }
      ]
    },
    {
      "cell_type": "code",
      "metadata": {
        "colab": {
          "base_uri": "https://localhost:8080/"
        },
        "id": "pVdyjW6CaNtN",
        "outputId": "83f4225c-45dc-4b19-8a74-775c8d2ec975"
      },
      "source": [
        "# naive_bayes x tfidf\n",
        "text_clf = Pipeline([\n",
        "    ('vect', CountVectorizer()),\n",
        "    ('tfidf', TfidfTransformer()),\n",
        "    ('clf', MultinomialNB()),\n",
        "])\n",
        "text_clf.fit(twenty_train.data, twenty_train.target)\n",
        "\n",
        "predicted = text_clf.predict(docs_test)\n",
        "# print('accuracy',np.mean(predicted == twenty_test.target))\n",
        "# print(metrics.classification_report(twenty_test.target, predicted, target_names=twenty_test.target_names))\n",
        "\n",
        "print('---NB x tfidf---')\n",
        "print('precision: ','%.3f'% precision_score(twenty_test.target, predicted, average='macro'))\n",
        "print('recall: ','%.3f'% recall_score(twenty_test.target, predicted, average='macro'))\n",
        "print('f1_score: ','%.3f'% f1_score(twenty_test.target, predicted, average='macro'))"
      ],
      "execution_count": null,
      "outputs": [
        {
          "output_type": "stream",
          "name": "stdout",
          "text": [
            "---NB x tfidf---\n",
            "precision:  0.826\n",
            "recall:  0.757\n",
            "f1_score:  0.756\n"
          ]
        }
      ]
    },
    {
      "cell_type": "markdown",
      "metadata": {
        "id": "5nuBVDbGBsVJ"
      },
      "source": [
        "SVM"
      ]
    },
    {
      "cell_type": "code",
      "metadata": {
        "colab": {
          "base_uri": "https://localhost:8080/"
        },
        "id": "M03BhurhkxWu",
        "outputId": "ffefc11e-6178-45c8-c417-6c49c5e9ff73"
      },
      "source": [
        "# SVM x count\n",
        "text_clf = Pipeline([\n",
        "    ('vect', CountVectorizer()),\n",
        "    ('clf', SGDClassifier(loss='hinge', penalty='l2',\n",
        "                alpha=1e-3, random_state=42,\n",
        "                max_iter=5, tol=None)),\n",
        "])\n",
        "\n",
        "text_clf.fit(twenty_train.data, twenty_train.target)\n",
        "predicted = text_clf.predict(docs_test)\n",
        "# print('accuracy',np.mean(predicted == twenty_test.target))\n",
        "# print(metrics.classification_report(twenty_test.target, predicted, target_names=twenty_test.target_names))\n",
        "\n",
        "print('---SVM x count---')\n",
        "print('precision: ','%.3f'% precision_score(twenty_test.target, predicted, average='macro'))\n",
        "print('recall: ','%.3f'% recall_score(twenty_test.target, predicted, average='macro'))\n",
        "print('f1_score: ','%.3f'% f1_score(twenty_test.target, predicted, average='macro'))"
      ],
      "execution_count": null,
      "outputs": [
        {
          "output_type": "stream",
          "name": "stdout",
          "text": [
            "---SVM x count---\n",
            "precision:  0.755\n",
            "recall:  0.746\n",
            "f1_score:  0.745\n"
          ]
        }
      ]
    },
    {
      "cell_type": "code",
      "metadata": {
        "colab": {
          "base_uri": "https://localhost:8080/"
        },
        "id": "9Br_SivgpfZP",
        "outputId": "092f288b-975c-4954-fafb-3807af30e014"
      },
      "source": [
        "# add parameters\n",
        "# SVM x count\n",
        "text_clf = Pipeline([\n",
        "    ('vect', CountVectorizer(\n",
        "        analyzer='word', lowercase=True, max_features=None,\n",
        "        ngram_range=(1,2), stop_words=None)),\n",
        "    ('clf', SGDClassifier(loss='hinge', penalty='l2',\n",
        "                alpha=1e-3, random_state=42,\n",
        "                max_iter=5, tol=None)),\n",
        "])\n",
        "\n",
        "text_clf.fit(twenty_train.data, twenty_train.target)\n",
        "predicted = text_clf.predict(docs_test)\n",
        "# print('accuracy',np.mean(predicted == twenty_test.target))\n",
        "# print(metrics.classification_report(twenty_test.target, predicted, target_names=twenty_test.target_names))\n",
        "\n",
        "print('---new SVM x count---')\n",
        "print('precision: ','%.3f'% precision_score(twenty_test.target, predicted, average='macro'))\n",
        "print('recall: ','%.3f'% recall_score(twenty_test.target, predicted, average='macro'))\n",
        "print('f1_score: ','%.3f'% f1_score(twenty_test.target, predicted, average='macro'))"
      ],
      "execution_count": null,
      "outputs": [
        {
          "output_type": "stream",
          "name": "stdout",
          "text": [
            "---new SVM x count---\n",
            "precision:  0.761\n",
            "recall:  0.745\n",
            "f1_score:  0.746\n"
          ]
        }
      ]
    },
    {
      "cell_type": "code",
      "metadata": {
        "colab": {
          "base_uri": "https://localhost:8080/"
        },
        "id": "2YZZw-0ilmBW",
        "outputId": "9d64f65b-e77c-47d0-95eb-1c92554fad29"
      },
      "source": [
        "# SVM x tf\n",
        "text_clf = Pipeline([\n",
        "    ('vect', CountVectorizer()),\n",
        "    ('tfidf', TfidfTransformer(use_idf=False)),\n",
        "    ('clf', SGDClassifier(loss='hinge', penalty='l2',\n",
        "                alpha=1e-3, random_state=42,\n",
        "                max_iter=5, tol=None)),\n",
        "])\n",
        "\n",
        "text_clf.fit(twenty_train.data, twenty_train.target)\n",
        "predicted = text_clf.predict(docs_test)\n",
        "# print('accuracy',np.mean(predicted == twenty_test.target))\n",
        "# print(metrics.classification_report(twenty_test.target, predicted, target_names=twenty_test.target_names))\n",
        "\n",
        "print('---SVM x tf---')\n",
        "print('precision: ','%.3f'% precision_score(twenty_test.target, predicted, average='macro'))\n",
        "print('recall: ','%.3f'% recall_score(twenty_test.target, predicted, average='macro'))\n",
        "print('f1_score: ','%.3f'% f1_score(twenty_test.target, predicted, average='macro'))"
      ],
      "execution_count": null,
      "outputs": [
        {
          "output_type": "stream",
          "name": "stdout",
          "text": [
            "---SVM x tf---\n",
            "precision:  0.779\n",
            "recall:  0.758\n",
            "f1_score:  0.755\n"
          ]
        }
      ]
    },
    {
      "cell_type": "code",
      "metadata": {
        "colab": {
          "base_uri": "https://localhost:8080/"
        },
        "id": "KeSPtkVoqWwi",
        "outputId": "b9f015fb-4ed9-4055-db2b-927d3778d7fb"
      },
      "source": [
        "# add parameters\n",
        "# SVM x tf\n",
        "text_clf = Pipeline([\n",
        "    ('vect', CountVectorizer(\n",
        "        analyzer='word', lowercase=False, max_features=None,\n",
        "        ngram_range=(1,2), stop_words=None)),\n",
        "    ('tfidf', TfidfTransformer(use_idf=False)),\n",
        "    ('clf', SGDClassifier(loss='hinge', penalty='l2',\n",
        "                alpha=1e-3, random_state=42,\n",
        "                max_iter=5, tol=None)),\n",
        "])\n",
        "\n",
        "text_clf.fit(twenty_train.data, twenty_train.target)\n",
        "predicted = text_clf.predict(docs_test)\n",
        "# print('accuracy',np.mean(predicted == twenty_test.target))\n",
        "# print(metrics.classification_report(twenty_test.target, predicted, target_names=twenty_test.target_names))\n",
        "\n",
        "print('---new SVM x tf---')\n",
        "print('precision: ','%.3f'% precision_score(twenty_test.target, predicted, average='macro'))\n",
        "print('recall: ','%.3f'% recall_score(twenty_test.target, predicted, average='macro'))\n",
        "print('f1_score: ','%.3f'% f1_score(twenty_test.target, predicted, average='macro'))"
      ],
      "execution_count": null,
      "outputs": [
        {
          "output_type": "stream",
          "name": "stdout",
          "text": [
            "---new SVM x tf---\n",
            "precision:  0.786\n",
            "recall:  0.772\n",
            "f1_score:  0.770\n"
          ]
        }
      ]
    },
    {
      "cell_type": "code",
      "metadata": {
        "colab": {
          "base_uri": "https://localhost:8080/"
        },
        "id": "e2476dDZlGxT",
        "outputId": "e53879cb-0f5b-4ee7-ec74-0ad9a2c0867f"
      },
      "source": [
        "# SVM x tfidf\n",
        "text_clf = Pipeline([\n",
        "    ('vect', CountVectorizer()),\n",
        "    ('tfidf', TfidfTransformer()),\n",
        "    ('clf', SGDClassifier(loss='hinge', penalty='l2',\n",
        "                alpha=1e-3, random_state=42,\n",
        "                max_iter=5, tol=None)),\n",
        "])\n",
        "\n",
        "text_clf.fit(twenty_train.data, twenty_train.target)\n",
        "predicted = text_clf.predict(docs_test)\n",
        "# print('accuracy',np.mean(predicted == twenty_test.target))\n",
        "# print(metrics.classification_report(twenty_test.target, predicted, target_names=twenty_test.target_names))\n",
        "\n",
        "print('---SVM x tfidf---')\n",
        "print('precision: ','%.3f'% precision_score(twenty_test.target, predicted, average='macro'))\n",
        "print('recall: ','%.3f'% recall_score(twenty_test.target, predicted, average='macro'))\n",
        "print('f1_score: ','%.3f'% f1_score(twenty_test.target, predicted, average='macro'))"
      ],
      "execution_count": null,
      "outputs": [
        {
          "output_type": "stream",
          "name": "stdout",
          "text": [
            "---SVM x tfidf---\n",
            "precision:  0.828\n",
            "recall:  0.813\n",
            "f1_score:  0.812\n"
          ]
        }
      ]
    },
    {
      "cell_type": "code",
      "metadata": {
        "colab": {
          "base_uri": "https://localhost:8080/"
        },
        "id": "pa326rA7rx1K",
        "outputId": "7d99e448-c51a-4fcd-f51a-d117efdc9cc1"
      },
      "source": [
        "# add parameters\n",
        "# SVM x tfidf\n",
        "text_clf = Pipeline([\n",
        "    ('vect', CountVectorizer(\n",
        "        analyzer='word', lowercase=True, max_features=None,\n",
        "        ngram_range=(1,2), stop_words=None)),\n",
        "    ('tfidf', TfidfTransformer()),\n",
        "    ('clf', SGDClassifier(loss='hinge', penalty='l2',\n",
        "                alpha=1e-3, random_state=42,\n",
        "                max_iter=5, tol=None)),\n",
        "])\n",
        "\n",
        "text_clf.fit(twenty_train.data, twenty_train.target)\n",
        "predicted = text_clf.predict(docs_test)\n",
        "# print('accuracy',np.mean(predicted == twenty_test.target))\n",
        "# print(metrics.classification_report(twenty_test.target, predicted, target_names=twenty_test.target_names))\n",
        "\n",
        "print('---new SVM x tfidf---')\n",
        "print('precision: ','%.3f'% precision_score(twenty_test.target, predicted, average='macro'))\n",
        "print('recall: ','%.3f'% recall_score(twenty_test.target, predicted, average='macro'))\n",
        "print('f1_score: ','%.3f'% f1_score(twenty_test.target, predicted, average='macro'))"
      ],
      "execution_count": null,
      "outputs": [
        {
          "output_type": "stream",
          "name": "stdout",
          "text": [
            "---new SVM x tfidf---\n",
            "precision:  0.837\n",
            "recall:  0.825\n",
            "f1_score:  0.824\n"
          ]
        }
      ]
    },
    {
      "cell_type": "markdown",
      "metadata": {
        "id": "tmsRJHVdByqx"
      },
      "source": [
        "LogisticRegression"
      ]
    },
    {
      "cell_type": "code",
      "metadata": {
        "colab": {
          "base_uri": "https://localhost:8080/"
        },
        "id": "j3_FlHuXCxjr",
        "outputId": "c104adbc-62f5-4327-bf58-506e3d3a0a9b"
      },
      "source": [
        "# Logistic Regression x count\n",
        "text_clf = Pipeline([\n",
        "    ('vect', CountVectorizer()),\n",
        "    ('clf', LogisticRegression(random_state=0)),\n",
        "])\n",
        "\n",
        "text_clf.fit(twenty_train.data, twenty_train.target)\n",
        "predicted = text_clf.predict(docs_test)\n",
        "# print('accuracy',np.mean(predicted == twenty_test.target))\n",
        "# print(metrics.classification_report(twenty_test.target, predicted, target_names=twenty_test.target_names))\n",
        "\n",
        "print('---LR x count---')\n",
        "print('precision: ','%.3f'% precision_score(twenty_test.target, predicted, average='macro'))\n",
        "print('recall: ','%.3f'% recall_score(twenty_test.target, predicted, average='macro'))\n",
        "print('f1_score: ','%.3f'% f1_score(twenty_test.target, predicted, average='macro'))"
      ],
      "execution_count": null,
      "outputs": [
        {
          "output_type": "stream",
          "name": "stderr",
          "text": [
            "/usr/local/lib/python3.7/dist-packages/sklearn/linear_model/_logistic.py:940: ConvergenceWarning: lbfgs failed to converge (status=1):\n",
            "STOP: TOTAL NO. of ITERATIONS REACHED LIMIT.\n",
            "\n",
            "Increase the number of iterations (max_iter) or scale the data as shown in:\n",
            "    https://scikit-learn.org/stable/modules/preprocessing.html\n",
            "Please also refer to the documentation for alternative solver options:\n",
            "    https://scikit-learn.org/stable/modules/linear_model.html#logistic-regression\n",
            "  extra_warning_msg=_LOGISTIC_SOLVER_CONVERGENCE_MSG)\n"
          ]
        },
        {
          "output_type": "stream",
          "name": "stdout",
          "text": [
            "---LR x count---\n",
            "precision:  0.784\n",
            "recall:  0.780\n",
            "f1_score:  0.780\n"
          ]
        }
      ]
    },
    {
      "cell_type": "code",
      "metadata": {
        "id": "Mlbj7SX_C7ke",
        "colab": {
          "base_uri": "https://localhost:8080/"
        },
        "outputId": "a5becb61-17f9-45b2-8180-ae157018202c"
      },
      "source": [
        "# Logistic Regression x tf\n",
        "text_clf = Pipeline([\n",
        "    ('vect', CountVectorizer()),\n",
        "    ('tfidf', TfidfTransformer(use_idf=False)),\n",
        "    ('clf', LogisticRegression(random_state=0)),\n",
        "])\n",
        "\n",
        "text_clf.fit(twenty_train.data, twenty_train.target)\n",
        "predicted = text_clf.predict(docs_test)\n",
        "# print('accuracy',np.mean(predicted == twenty_test.target))\n",
        "# print(metrics.classification_report(twenty_test.target, predicted, target_names=twenty_test.target_names))\n",
        "\n",
        "print('---LR x tf---')\n",
        "print('precision: ','%.3f'% precision_score(twenty_test.target, predicted, average='macro'))\n",
        "print('recall: ','%.3f'% recall_score(twenty_test.target, predicted, average='macro'))\n",
        "print('f1_score: ','%.3f'% f1_score(twenty_test.target, predicted, average='macro'))"
      ],
      "execution_count": null,
      "outputs": [
        {
          "output_type": "stream",
          "name": "stderr",
          "text": [
            "/usr/local/lib/python3.7/dist-packages/sklearn/linear_model/_logistic.py:940: ConvergenceWarning: lbfgs failed to converge (status=1):\n",
            "STOP: TOTAL NO. of ITERATIONS REACHED LIMIT.\n",
            "\n",
            "Increase the number of iterations (max_iter) or scale the data as shown in:\n",
            "    https://scikit-learn.org/stable/modules/preprocessing.html\n",
            "Please also refer to the documentation for alternative solver options:\n",
            "    https://scikit-learn.org/stable/modules/linear_model.html#logistic-regression\n",
            "  extra_warning_msg=_LOGISTIC_SOLVER_CONVERGENCE_MSG)\n"
          ]
        },
        {
          "output_type": "stream",
          "name": "stdout",
          "text": [
            "---LR x tf---\n",
            "precision:  0.725\n",
            "recall:  0.715\n",
            "f1_score:  0.714\n"
          ]
        }
      ]
    },
    {
      "cell_type": "code",
      "metadata": {
        "colab": {
          "base_uri": "https://localhost:8080/"
        },
        "id": "UEF0A8pHv9uq",
        "outputId": "da9de180-4953-4e78-a931-899ac0f5e783"
      },
      "source": [
        "# add parameters\n",
        "# Logistic Regression x tf\n",
        "text_clf = Pipeline([\n",
        "    ('vect', CountVectorizer(\n",
        "        analyzer='word', lowercase=True, max_features=None,\n",
        "        ngram_range=(1,2), stop_words=None)),\n",
        "    ('tfidf', TfidfTransformer(use_idf=False)),\n",
        "    ('clf', LogisticRegression(random_state=0)),\n",
        "])\n",
        "\n",
        "text_clf.fit(twenty_train.data, twenty_train.target)\n",
        "predicted = text_clf.predict(docs_test)\n",
        "# print('accuracy',np.mean(predicted == twenty_test.target))\n",
        "# print(metrics.classification_report(twenty_test.target, predicted, target_names=twenty_test.target_names))\n",
        "\n",
        "print('---new LR x tf---')\n",
        "print('precision: ','%.3f'% precision_score(twenty_test.target, predicted, average='macro'))\n",
        "print('recall: ','%.3f'% recall_score(twenty_test.target, predicted, average='macro'))\n",
        "print('f1_score: ','%.3f'% f1_score(twenty_test.target, predicted, average='macro'))"
      ],
      "execution_count": null,
      "outputs": [
        {
          "output_type": "stream",
          "name": "stderr",
          "text": [
            "/usr/local/lib/python3.7/dist-packages/sklearn/linear_model/_logistic.py:940: ConvergenceWarning: lbfgs failed to converge (status=1):\n",
            "STOP: TOTAL NO. of ITERATIONS REACHED LIMIT.\n",
            "\n",
            "Increase the number of iterations (max_iter) or scale the data as shown in:\n",
            "    https://scikit-learn.org/stable/modules/preprocessing.html\n",
            "Please also refer to the documentation for alternative solver options:\n",
            "    https://scikit-learn.org/stable/modules/linear_model.html#logistic-regression\n",
            "  extra_warning_msg=_LOGISTIC_SOLVER_CONVERGENCE_MSG)\n"
          ]
        },
        {
          "output_type": "stream",
          "name": "stdout",
          "text": [
            "---new LR x tf---\n",
            "precision:  0.733\n",
            "recall:  0.723\n",
            "f1_score:  0.722\n"
          ]
        }
      ]
    },
    {
      "cell_type": "code",
      "metadata": {
        "colab": {
          "base_uri": "https://localhost:8080/"
        },
        "id": "KCm1Cw3hsUTi",
        "outputId": "2a1e8462-e274-4b5c-de22-539543832a6d"
      },
      "source": [
        "# Logistic Regression x tfidf\n",
        "text_clf = Pipeline([\n",
        "    ('vect', CountVectorizer()),\n",
        "    ('tfidf', TfidfTransformer()),\n",
        "    ('clf', LogisticRegression(random_state=0)),\n",
        "])\n",
        "\n",
        "text_clf.fit(twenty_train.data, twenty_train.target)\n",
        "predicted = text_clf.predict(docs_test)\n",
        "# print('accuracy',np.mean(predicted == twenty_test.target))\n",
        "# print(metrics.classification_report(twenty_test.target, predicted, target_names=twenty_test.target_names))\n",
        "\n",
        "print('---LR x tfidf---')\n",
        "print('precision: ','%.3f'% precision_score(twenty_test.target, predicted, average='macro'))\n",
        "print('recall: ','%.3f'% recall_score(twenty_test.target, predicted, average='macro'))\n",
        "print('f1_score: ','%.3f'% f1_score(twenty_test.target, predicted, average='macro'))"
      ],
      "execution_count": null,
      "outputs": [
        {
          "output_type": "stream",
          "name": "stdout",
          "text": [
            "---LR x tfidf---\n",
            "precision:  0.829\n",
            "recall:  0.818\n",
            "f1_score:  0.819\n"
          ]
        }
      ]
    }
  ]
}